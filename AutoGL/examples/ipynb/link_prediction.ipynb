{
 "cells": [
  {
   "cell_type": "markdown",
   "metadata": {},
   "source": [
    "Link Prediction\n",
    "In this file we will give you a simple example to show how to use AutoGL to do link prediction.\n",
    "Import libraries\n",
    "First, you should import some libraries and you can set the random seed before you train the model."
   ]
  },
  {
   "cell_type": "markdown",
   "metadata": {},
   "source": []
  }
 ],
 "metadata": {
  "kernelspec": {
   "display_name": "Python 3.6.9 ('py3_hetgnn')",
   "language": "python",
   "name": "python3"
  },
  "language_info": {
   "name": "python",
   "version": "3.6.9"
  },
  "orig_nbformat": 4,
  "vscode": {
   "interpreter": {
    "hash": "c71a81e10bf2a5359758b67f38009e83c4204a5be77a74a1c3689ce1bb3351ac"
   }
  }
 },
 "nbformat": 4,
 "nbformat_minor": 2
}
